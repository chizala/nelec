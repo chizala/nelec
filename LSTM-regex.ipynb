{
 "cells": [
  {
   "cell_type": "code",
   "execution_count": 1,
   "metadata": {},
   "outputs": [
    {
     "name": "stderr",
     "output_type": "stream",
     "text": [
      "Using TensorFlow backend.\n"
     ]
    },
    {
     "name": "stdout",
     "output_type": "stream",
     "text": [
      "Loading utils module\n",
      "Loading utils module\n"
     ]
    }
   ],
   "source": [
    "import numpy as np\n",
    "import tensorflow as tf\n",
    "from keras import backend as K\n",
    "\n",
    "import keras\n",
    "from keras.preprocessing.text import Tokenizer\n",
    "from keras.preprocessing.sequence import pad_sequences\n",
    "from keras.utils import to_categorical\n",
    "from keras.models import Sequential, load_model, Model\n",
    "from keras.layers import concatenate, Activation, GlobalAveragePooling1D, GlobalMaxPooling1D, Layer, Dense, Embedding, LSTM, GRU, Dropout, SpatialDropout1D, Input, Average, Bidirectional, BatchNormalization\n",
    "from keras.callbacks import Callback\n",
    "from keras import initializers, regularizers, constraints, optimizers, layers\n",
    "\n",
    "import sys, importlib\n",
    "import utils\n",
    "importlib.reload(sys.modules['utils'])\n",
    "\n",
    "from keras.models import load_model\n",
    "import json, argparse, os\n",
    "import re\n",
    "import io\n",
    "import sys"
   ]
  },
  {
   "cell_type": "code",
   "execution_count": 2,
   "metadata": {},
   "outputs": [],
   "source": [
    "# Don't hog GPU\n",
    "config = tf.ConfigProto()\n",
    "config.gpu_options.allow_growth=True\n",
    "sess = tf.Session(config=config)\n",
    "keras.backend.set_session(sess)"
   ]
  },
  {
   "cell_type": "code",
   "execution_count": 3,
   "metadata": {},
   "outputs": [],
   "source": [
    "# Path to training and testing data file. This data can be downloaded from a link, details of which will be provided.\n",
    "trainDataPath = \"./train.txt\"\n",
    "testDataPath = \"./dev.txt\"\n",
    "evalDataPath = \"./test.txt\"\n",
    "# Output file that will be generated. This file can be directly submitted.\n",
    "solutionPath = \"./imdone.txt\"\n",
    "\n",
    "label2emotion = {0:\"others\", 1:\"happy\", 2: \"sad\", 3:\"angry\"}\n",
    "emotion2label = {\"others\":0, \"happy\":1, \"sad\":2, \"angry\":3}"
   ]
  },
  {
   "cell_type": "code",
   "execution_count": 4,
   "metadata": {},
   "outputs": [],
   "source": [
    "NUM_CLASSES = 4\n",
    "MAX_NB_WORDS = 50000\n",
    "MAX_SEQUENCE_LENGTH = 35\n",
    "EMBEDDING_DIM = 300"
   ]
  },
  {
   "cell_type": "code",
   "execution_count": 5,
   "metadata": {},
   "outputs": [],
   "source": [
    "def preprocessData(dataFilePath, mode, total_raw=False):\n",
    "    indices = []\n",
    "    conversations = []\n",
    "    raw_conversations = []\n",
    "    labels = []\n",
    "    \n",
    "    import regex\n",
    "    importlib.reload(sys.modules['regex'])\n",
    "    \n",
    "    with io.open(dataFilePath, encoding=\"utf8\") as finput:\n",
    "        finput.readline()\n",
    "        for line in finput:\n",
    "            raw_conv = ' '.join(line[:].strip().split('\\t')[1:4])\n",
    "            \n",
    "            if not total_raw:\n",
    "                repeatedChars = ['.', '?', '!', ',']\n",
    "                for c in repeatedChars:\n",
    "                    lineSplit = line.split(c)\n",
    "                    while True:\n",
    "                        try:\n",
    "                            lineSplit.remove('')\n",
    "                        except:\n",
    "                            break\n",
    "                    cSpace = ' ' + c + ' '    \n",
    "                    line = cSpace.join(lineSplit)\n",
    "            line = line.strip().split('\\t')\n",
    "\n",
    "            if mode == \"train\":\n",
    "                # Train data contains id, 3 turns and label\n",
    "                label = emotion2label[line[4]]\n",
    "                labels.append(label)\n",
    "            \n",
    "            conv = ' <eos> '.join(line[1:4])\n",
    "            \n",
    "            # Remove any duplicate spaces\n",
    "            duplicateSpacePattern = re.compile(r'\\ +')\n",
    "            conv = re.sub(duplicateSpacePattern, ' ', conv)\n",
    "            \n",
    "            indices.append(int(line[0]))\n",
    "            # Remove stray punctuation\n",
    "            if not total_raw:\n",
    "                stray_punct = ['‑', '-', \"^\", \":\",\n",
    "                               \";\", \"#\", \")\", \"(\", \"*\", \"=\", \"\\\\\", \"/\"]\n",
    "                for punct in stray_punct:\n",
    "                        conv = conv.replace(punct, \"\")\n",
    "    \n",
    "            if not total_raw:\n",
    "                processedData = regex.cleanText(conv.lower(), remEmojis=1).lower() #.rstrip()\n",
    "                processedData = processedData.replace(\"'\", \"\")\n",
    "                # Remove numbers\n",
    "                processedData = ''.join([i for i in processedData if not i.isdigit()])\n",
    "            else:\n",
    "                processedData = conv.lower()\n",
    "\n",
    "            conversations.append(processedData)\n",
    "            raw_conversations.append(raw_conv)\n",
    "    \n",
    "    if mode == \"train\":\n",
    "        return indices, conversations, raw_conversations, labels\n",
    "    else:\n",
    "        return indices, conversations, raw_conversations"
   ]
  },
  {
   "cell_type": "code",
   "execution_count": 6,
   "metadata": {},
   "outputs": [
    {
     "name": "stdout",
     "output_type": "stream",
     "text": [
      "Processing test data...\n",
      "Loading utils module\n",
      "Loading utils module\n",
      "Processing training data...\n",
      "Loading utils module\n",
      "Processing evaluation data...\n",
      "Loading utils module\n",
      "Extracting tokens...\n",
      "Found 19475 unique tokens.\n"
     ]
    }
   ],
   "source": [
    "print(\"Processing test data...\")\n",
    "testIndices, testTexts, rawtestTexts, testLabels = preprocessData(testDataPath, mode=\"train\", total_raw=True)\n",
    "testLabels = to_categorical(np.asarray(testLabels), NUM_CLASSES)\n",
    "print(\"Processing training data...\")\n",
    "trainIndices, trainTexts, rawtrainTexts, labels = preprocessData(trainDataPath, mode=\"train\", total_raw=True)\n",
    "labels = to_categorical(np.asarray(labels), NUM_CLASSES)\n",
    "print(\"Processing evaluation data...\")\n",
    "evalIndices, evalTexts, rawevalTexts, evalLabels = preprocessData(evalDataPath, mode=\"train\", total_raw=True)\n",
    "evalLabels = to_categorical(np.asarray(evalLabels), NUM_CLASSES)\n",
    "\n",
    "print(\"Extracting tokens...\")\n",
    "tokenizer = Tokenizer(num_words=MAX_NB_WORDS, oov_token='<unk>')\n",
    "# tokenizer.fit_on_texts(trainTexts)\n",
    "tokenizer.fit_on_texts(trainTexts + testTexts + evalTexts)\n",
    "trainSequences = tokenizer.texts_to_sequences(trainTexts)\n",
    "testSequences = tokenizer.texts_to_sequences(testTexts)\n",
    "evalSequences = tokenizer.texts_to_sequences(evalTexts)\n",
    "\n",
    "wordIndex = tokenizer.word_index\n",
    "print(\"Found %s unique tokens.\" % len(wordIndex))"
   ]
  },
  {
   "cell_type": "code",
   "execution_count": 7,
   "metadata": {},
   "outputs": [
    {
     "name": "stdout",
     "output_type": "stream",
     "text": [
      "Mean length for train data 15.655305039787798\n",
      "Train-data Coverage (cutoff length): 0.9902851458885942\n",
      "\n",
      "Mean length for dev data 14.97967332123412\n",
      "Dev-data Coverage (cutoff length): 0.9927404718693285\n",
      "\n",
      "Mean length for test data 14.979306589217645\n",
      "Test-data Coverage (cutoff length): 0.9921945906698131\n"
     ]
    }
   ],
   "source": [
    "lens = [len(x) for x in trainSequences]\n",
    "print(\"Mean length for train data\", np.mean((np.array(lens))))\n",
    "print(\"Train-data Coverage (cutoff length):\", np.sum(np.array(lens) <= MAX_SEQUENCE_LENGTH) / len(trainSequences))\n",
    "print()\n",
    "lens = [len(x) for x in testSequences]\n",
    "print(\"Mean length for dev data\", np.mean((np.array(lens))))\n",
    "print(\"Dev-data Coverage (cutoff length):\", np.sum(np.array(lens) <= MAX_SEQUENCE_LENGTH) / len(testSequences))\n",
    "print()\n",
    "lens = [len(x) for x in evalSequences]\n",
    "print(\"Mean length for test data\", np.mean((np.array(lens))))\n",
    "print(\"Test-data Coverage (cutoff length):\", np.sum(np.array(lens) <= MAX_SEQUENCE_LENGTH) / len(evalSequences))"
   ]
  },
  {
   "cell_type": "code",
   "execution_count": 8,
   "metadata": {},
   "outputs": [
    {
     "name": "stdout",
     "output_type": "stream",
     "text": [
      "Coverage with 50000 words: 1.0\n"
     ]
    }
   ],
   "source": [
    "sorted_wordcounts = sorted(tokenizer.word_counts.items(), key=lambda x: x[1], reverse=True)\n",
    "words_covered, total_words = 0, 0\n",
    "for i, tup in enumerate(sorted_wordcounts):\n",
    "    total_words += tup[1]\n",
    "    if i < MAX_NB_WORDS:\n",
    "        words_covered += tup[1]\n",
    "print(\"Coverage with %d words:\" % MAX_NB_WORDS, words_covered/total_words)"
   ]
  },
  {
   "cell_type": "code",
   "execution_count": 9,
   "metadata": {},
   "outputs": [],
   "source": [
    "train_l, train_m, train_r = utils.split_into_three(trainTexts, tokenizer)\n",
    "test_l, test_m, test_r = utils.split_into_three(testTexts, tokenizer)\n",
    "eval_l, eval_m, eval_r = utils.split_into_three(evalTexts, tokenizer)\n",
    "\n",
    "train_all = tokenizer.texts_to_sequences(trainTexts)\n",
    "test_all = tokenizer.texts_to_sequences(testTexts)\n",
    "eval_all = tokenizer.texts_to_sequences(evalTexts)"
   ]
  },
  {
   "cell_type": "code",
   "execution_count": 10,
   "metadata": {},
   "outputs": [
    {
     "name": "stdout",
     "output_type": "stream",
     "text": [
      "Original: then dont ask me <eos> youre a guy not as if you would understand <eos> im not a guy fuck off\n",
      "Processed: Then dont ask me YOURE A GUY NOT AS IF YOU WOULD UNDERSTAND IM NOT A GUY FUCK OFF\n",
      "\n",
      "Original: mixed things such as?? <eos> the things you do. <eos> have you seen minions??\n",
      "Processed: Mixed things  such as?? the things you do. Have you seen minions??\n",
      "\n",
      "Original: today i'm very happy <eos> and i'm happy for you ❤ <eos> i will be marry\n",
      "Processed: Today I'm very happy and I'm happy for you ❤ I will be marry\n",
      "\n",
      "Original: woah bring me some <eos> left it there oops <eos> brb\n",
      "Processed: Woah bring me some left it there oops Brb\n",
      "\n",
      "Original: it is thooooo <eos> i said soon master. <eos> he is pressuring me\n",
      "Processed: it is thooooo I said soon master. he is pressuring me\n",
      "\n"
     ]
    }
   ],
   "source": [
    "for i in range(5):\n",
    "    print(\"Original:\", testTexts[i])\n",
    "    print(\"Processed:\", rawtestTexts[i])\n",
    "    print()"
   ]
  },
  {
   "cell_type": "code",
   "execution_count": 11,
   "metadata": {},
   "outputs": [
    {
     "name": "stdout",
     "output_type": "stream",
     "text": [
      "Loading utils module\n",
      "Populating embedding matrix...\n",
      "Found 400000 word vectors.\n",
      "Found embedding for 63.0397946084724 % embeddings\n"
     ]
    }
   ],
   "source": [
    "importlib.reload(sys.modules['utils'])\n",
    "print(\"Populating embedding matrix...\")\n",
    "embeddingMatrix, oov, oov_indices = utils.getEmbeddingMatrix(wordIndex, EMBEDDING_DIM)\n",
    "oov = [(x, tokenizer.word_counts.get(x, 0)) for x in oov]\n",
    "oov.sort(key=lambda tup: tup[1], reverse=True)"
   ]
  },
  {
   "cell_type": "code",
   "execution_count": 12,
   "metadata": {},
   "outputs": [
    {
     "name": "stdout",
     "output_type": "stream",
     "text": [
      "Loading utils module\n",
      "Adding emoji embeddings...\n",
      "Found embedding for 1.042362002567394 % embeddings\n"
     ]
    }
   ],
   "source": [
    "importlib.reload(sys.modules['utils'])\n",
    "print(\"Adding emoji embeddings...\")\n",
    "embeddingMatrix = utils.add_emoji_embedding(wordIndex, embeddingMatrix)"
   ]
  },
  {
   "cell_type": "code",
   "execution_count": 13,
   "metadata": {},
   "outputs": [
    {
     "name": "stderr",
     "output_type": "stream",
     "text": [
      "100%|██████████| 30160/30160 [00:12<00:00, 2443.49it/s]\n",
      " 17%|█▋        | 465/2755 [00:00<00:00, 2321.63it/s]"
     ]
    },
    {
     "name": "stdout",
     "output_type": "stream",
     "text": [
      "OOV with embedding vocabulary on train: 3.747850323192789\n"
     ]
    },
    {
     "name": "stderr",
     "output_type": "stream",
     "text": [
      "100%|██████████| 2755/2755 [00:01<00:00, 2428.08it/s]\n",
      " 10%|▉         | 543/5509 [00:00<00:01, 2712.36it/s]"
     ]
    },
    {
     "name": "stdout",
     "output_type": "stream",
     "text": [
      "OOV with embedding vocabulary on dev: 4.899561414136519\n"
     ]
    },
    {
     "name": "stderr",
     "output_type": "stream",
     "text": [
      "100%|██████████| 5509/5509 [00:02<00:00, 2606.13it/s]"
     ]
    },
    {
     "name": "stdout",
     "output_type": "stream",
     "text": [
      "OOV with embedding vocabulary on test: 4.907841640309739\n"
     ]
    },
    {
     "name": "stderr",
     "output_type": "stream",
     "text": [
      "\n"
     ]
    }
   ],
   "source": [
    "from tqdm import tqdm\n",
    "\n",
    "def count_oov(texts):\n",
    "    s, c = 0, 0\n",
    "    for text in tqdm(texts):\n",
    "        c += len(text)\n",
    "        s += len(set(text).intersection(set(oov_indices)))\n",
    "    return 100 * s/c\n",
    "\n",
    "print(\"OOV with embedding vocabulary on train:\", count_oov(trainSequences))\n",
    "print(\"OOV with embedding vocabulary on dev:\", count_oov(testSequences))\n",
    "print(\"OOV with embedding vocabulary on test:\", count_oov(evalSequences))"
   ]
  },
  {
   "cell_type": "code",
   "execution_count": 14,
   "metadata": {},
   "outputs": [
    {
     "name": "stdout",
     "output_type": "stream",
     "text": [
      "Sentences with emojis for train (%) : 17.56631299734748\n",
      "Sentences with emojis for dev (%) : 11.143375680580762\n",
      "Sentences with emojis for test (%): 12.543111272463243\n"
     ]
    }
   ],
   "source": [
    "import emoji\n",
    "\n",
    "count_emoji_appearances = lambda texts: map(lambda x: len(set(emoji.UNICODE_EMOJI.keys()).intersection(set(x))) > 0, texts)\n",
    "\n",
    "print(\"Sentences with emojis for train (%) :\", 100 * np.mean(list(count_emoji_appearances(rawtrainTexts))))\n",
    "print(\"Sentences with emojis for dev (%) :\", 100 * np.mean(list(count_emoji_appearances(rawtestTexts))))\n",
    "print(\"Sentences with emojis for test (%):\", 100 * np.mean(list(count_emoji_appearances(rawevalTexts))))"
   ]
  },
  {
   "cell_type": "code",
   "execution_count": 15,
   "metadata": {},
   "outputs": [],
   "source": [
    "ooh = {}\n",
    "\n",
    "relevant_oov = [x[0] for x in oov]\n",
    "actual_words = [k for (k,v) in tokenizer.word_index.items()]\n",
    "for datum in testTexts:\n",
    "    words = datum.split(' ')\n",
    "    for word in words:\n",
    "        if word in relevant_oov :\n",
    "            ooh[word] = ooh.get(word, 0) + 1\n",
    "\n",
    "ooh_items = [(k, v) for (k,v) in ooh.items()]\n",
    "ooh_items.sort(key=lambda tup: tup[1], reverse=True)"
   ]
  },
  {
   "cell_type": "code",
   "execution_count": 16,
   "metadata": {},
   "outputs": [
    {
     "name": "stdout",
     "output_type": "stream",
     "text": [
      "Shape of training data tensor:  (30160, 35)\n",
      "Shape of training label tensor:  (30160, 4)\n"
     ]
    }
   ],
   "source": [
    "train_l = pad_sequences(train_l, maxlen=MAX_SEQUENCE_LENGTH, padding='post', truncating='post')\n",
    "train_m = pad_sequences(train_m, maxlen=MAX_SEQUENCE_LENGTH, padding='post', truncating='post')\n",
    "train_r = pad_sequences(train_r, maxlen=MAX_SEQUENCE_LENGTH, padding='post', truncating='post')\n",
    "train_all = pad_sequences(train_all, maxlen=MAX_SEQUENCE_LENGTH, padding='post', truncating='post')\n",
    "\n",
    "test_l = pad_sequences(test_l, maxlen=MAX_SEQUENCE_LENGTH, padding='post', truncating='post')\n",
    "test_m = pad_sequences(test_m, maxlen=MAX_SEQUENCE_LENGTH, padding='post', truncating='post')\n",
    "test_r = pad_sequences(test_r, maxlen=MAX_SEQUENCE_LENGTH, padding='post', truncating='post')\n",
    "test_all = pad_sequences(test_all, maxlen=MAX_SEQUENCE_LENGTH, padding='post', truncating='post')\n",
    "\n",
    "eval_l = pad_sequences(eval_l, maxlen=MAX_SEQUENCE_LENGTH, padding='post', truncating='post')\n",
    "eval_m = pad_sequences(eval_m, maxlen=MAX_SEQUENCE_LENGTH, padding='post', truncating='post')\n",
    "eval_r = pad_sequences(eval_r, maxlen=MAX_SEQUENCE_LENGTH, padding='post', truncating='post')\n",
    "eval_all = pad_sequences(eval_all, maxlen=MAX_SEQUENCE_LENGTH, padding='post', truncating='post')\n",
    "\n",
    "print(\"Shape of training data tensor: \", train_l.shape)\n",
    "print(\"Shape of training label tensor: \", labels.shape)"
   ]
  },
  {
   "cell_type": "code",
   "execution_count": 17,
   "metadata": {},
   "outputs": [],
   "source": [
    "from keras.layers import average\n",
    "from keras.regularizers import l1, l2, l1_l2\n",
    "from keras.layers import RepeatVector\n",
    "import keras.backend as K\n",
    "\n",
    "from keras.constraints import MinMaxNorm\n",
    "from keras.layers import Lambda\n",
    "\n",
    "def buildSingleModel(embeddingMatrix, hidDim=128, maxlen=MAX_SEQUENCE_LENGTH, dp=0.25):\n",
    "    embeddingLayer = Embedding(embeddingMatrix.shape[0],\n",
    "                                    embeddingMatrix.shape[1],\n",
    "                                    weights=[embeddingMatrix],\n",
    "                                    input_length=MAX_SEQUENCE_LENGTH,\n",
    "                                    trainable=False)\n",
    "    \n",
    "    inp = Input(shape=(maxlen,))\n",
    "    x = embeddingLayer(inp)\n",
    "    x = SpatialDropout1D(dp)(x)\n",
    "    x = LSTM(hidDim, return_sequences=True, dropout=dp, recurrent_dropout=dp)(x)\n",
    "    y = GRU(hidDim, return_sequences=True, dropout=dp, recurrent_dropout=dp)(x)\n",
    "    \n",
    "    att_x = utils.Attention(MAX_SEQUENCE_LENGTH)(x)\n",
    "    mean_x = GlobalAveragePooling1D()(x)\n",
    "    max_x = GlobalMaxPooling1D()(x)\n",
    "    conc_x = concatenate([att_x, mean_x, max_x])\n",
    "    conc_x = Dropout(dp)(conc_x)\n",
    "    conc_x = Dense(hidDim, activation='relu')(conc_x)\n",
    "    \n",
    "    att_y = utils.Attention(MAX_SEQUENCE_LENGTH)(y)\n",
    "    mean_y = GlobalAveragePooling1D()(y)\n",
    "    max_y = GlobalMaxPooling1D()(y)\n",
    "    conc_y = concatenate([att_y, mean_y, max_y])\n",
    "    conc_y = Dropout(dp)(conc_y)\n",
    "    conc_y = Dense(hidDim, activation='relu')(conc_y)\n",
    "    \n",
    "    conc = concatenate([conc_x, conc_y])\n",
    "    conc = Dropout(dp)(conc)\n",
    "    conc = Dense(hidDim, activation='relu')(conc)\n",
    "    conc = Dropout(dp)(conc)\n",
    "    output = Dense(NUM_CLASSES, activation='softmax')(conc)\n",
    "\n",
    "    model = Model(inputs=inp, outputs=output)\n",
    "    model.compile(loss='categorical_crossentropy',\n",
    "                optimizer=optimizers.Adam(1e-3),\n",
    "                metrics=[utils.microF1Loss])\n",
    "\n",
    "    return model"
   ]
  },
  {
   "cell_type": "code",
   "execution_count": 18,
   "metadata": {},
   "outputs": [],
   "source": [
    "clr = utils.CyclicLR(base_lr=0.001, max_lr=0.005,\n",
    "               step_size=300., mode='exp_range',\n",
    "               gamma=0.99994)\n",
    "model = buildSingleModel(embeddingMatrix, hidDim=32, dp=0.25)"
   ]
  },
  {
   "cell_type": "code",
   "execution_count": 22,
   "metadata": {},
   "outputs": [
    {
     "data": {
      "image/png": "[encoded data removed]",
      "text/plain": [
       "<Figure size 864x576 with 2 Axes>"
      ]
     },
     "metadata": {
      "needs_background": "light"
     },
     "output_type": "display_data"
    },
    {
     "name": "stdout",
     "output_type": "stream",
     "text": [
      "Log-loss (cost function):\n",
      "training   (min:    0.330, max:    0.375, cur:    0.334)\n",
      "validation (min:    0.359, max:    0.388, cur:    0.376)\n",
      "\n",
      "microF1Loss:\n",
      "training   (min:    0.847, max:    0.866, cur:    0.863)\n",
      "validation (min:    0.610, max:    0.637, cur:    0.628)\n"
     ]
    },
    {
     "data": {
      "text/plain": [
       "<keras.callbacks.History at 0x7f9b6cf53dd8>"
      ]
     },
     "execution_count": 22,
     "metadata": {},
     "output_type": "execute_result"
    }
   ],
   "source": [
    "from livelossplot.keras import PlotLossesCallback\n",
    "\n",
    "model.fit(train_all, labels,\n",
    "          batch_size=8192, epochs=100,\n",
    "          callbacks=[PlotLossesCallback(), clr],\n",
    "          verbose=0,\n",
    "          validation_data=(test_all, testLabels))"
   ]
  },
  {
   "cell_type": "code",
   "execution_count": 27,
   "metadata": {},
   "outputs": [
    {
     "name": "stdout",
     "output_type": "stream",
     "text": [
      "True Positives per class :  [4138.  197.  188.  238.]\n",
      "False Positives per class :  [168. 191. 191. 198.]\n",
      "False Negatives per class :  [539.  87.  62.  60.]\n",
      "Class happy : Precision : 0.508, Recall : 0.694, F1 : 0.586\n",
      "Class sad : Precision : 0.496, Recall : 0.752, F1 : 0.598\n",
      "Class angry : Precision : 0.546, Recall : 0.799, F1 : 0.649\n",
      "Ignoring the Others class, Macro Precision : 0.5165, Macro Recall : 0.7481, Macro F1 : 0.6111\n",
      "Ignoring the Others class, Micro TP : 623, FP : 580, FN : 209\n",
      "Accuracy : 0.8642, Micro Precision : 0.5179, Micro Recall : 0.7488, Micro F1 : 0.6123\n"
     ]
    },
    {
     "data": {
      "text/plain": [
       "(0.8642221818841895, 0.517872, 0.7487981, 0.612285032014763)"
      ]
     },
     "execution_count": 27,
     "metadata": {},
     "output_type": "execute_result"
    }
   ],
   "source": [
    "predictions = model.predict(eval_all, batch_size=4096)\n",
    "utils.getMetrics(predictions, evalLabels)"
   ]
  },
  {
   "cell_type": "code",
   "execution_count": 21,
   "metadata": {},
   "outputs": [
    {
     "ename": "IndexError",
     "evalue": "list index out of range",
     "output_type": "error",
     "traceback": [
      "\u001b[0;31m---------------------------------------------------------------------------\u001b[0m",
      "\u001b[0;31mIndexError\u001b[0m                                Traceback (most recent call last)",
      "\u001b[0;32m<ipython-input-21-475ab9bb6a9c>\u001b[0m in \u001b[0;36m<module>\u001b[0;34m\u001b[0m\n\u001b[1;32m      6\u001b[0m     \u001b[0mlayer_output\u001b[0m \u001b[0;34m=\u001b[0m \u001b[0mget_lstm_outputs\u001b[0m\u001b[0;34m(\u001b[0m\u001b[0;34m[\u001b[0m\u001b[0mtrain_all\u001b[0m\u001b[0;34m[\u001b[0m\u001b[0;34m:\u001b[0m\u001b[0;36m1\u001b[0m\u001b[0;34m]\u001b[0m\u001b[0;34m[\u001b[0m\u001b[0;34m:\u001b[0m\u001b[0;34m,\u001b[0m\u001b[0;34m:\u001b[0m\u001b[0;36m5\u001b[0m\u001b[0;34m]\u001b[0m\u001b[0;34m]\u001b[0m\u001b[0;34m)\u001b[0m\u001b[0;34m[\u001b[0m\u001b[0;36m0\u001b[0m\u001b[0;34m]\u001b[0m\u001b[0;34m\u001b[0m\u001b[0m\n\u001b[1;32m      7\u001b[0m     \u001b[0mlstm_weights\u001b[0m \u001b[0;34m=\u001b[0m \u001b[0;34m(\u001b[0m\u001b[0mmodel\u001b[0m\u001b[0;34m.\u001b[0m\u001b[0mlayers\u001b[0m\u001b[0;34m[\u001b[0m\u001b[0;36m2\u001b[0m\u001b[0;34m]\u001b[0m\u001b[0;34m.\u001b[0m\u001b[0mget_weights\u001b[0m\u001b[0;34m(\u001b[0m\u001b[0;34m)\u001b[0m\u001b[0;34m)\u001b[0m\u001b[0;34m\u001b[0m\u001b[0m\n\u001b[0;32m----> 8\u001b[0;31m     \u001b[0mprint\u001b[0m\u001b[0;34m(\u001b[0m\u001b[0mnp\u001b[0m\u001b[0;34m.\u001b[0m\u001b[0mmax\u001b[0m\u001b[0;34m(\u001b[0m\u001b[0mlstm_weights\u001b[0m\u001b[0;34m[\u001b[0m\u001b[0;36m0\u001b[0m\u001b[0;34m]\u001b[0m\u001b[0;34m)\u001b[0m\u001b[0;34m,\u001b[0m \u001b[0mnp\u001b[0m\u001b[0;34m.\u001b[0m\u001b[0mmin\u001b[0m\u001b[0;34m(\u001b[0m\u001b[0mlstm_weights\u001b[0m\u001b[0;34m[\u001b[0m\u001b[0;36m0\u001b[0m\u001b[0;34m]\u001b[0m\u001b[0;34m)\u001b[0m\u001b[0;34m,\u001b[0m \u001b[0mnp\u001b[0m\u001b[0;34m.\u001b[0m\u001b[0mmean\u001b[0m\u001b[0;34m(\u001b[0m\u001b[0mlstm_weights\u001b[0m\u001b[0;34m[\u001b[0m\u001b[0;36m0\u001b[0m\u001b[0;34m]\u001b[0m\u001b[0;34m)\u001b[0m\u001b[0;34m)\u001b[0m\u001b[0;34m\u001b[0m\u001b[0m\n\u001b[0m\u001b[1;32m      9\u001b[0m     \u001b[0mprint\u001b[0m\u001b[0;34m(\u001b[0m\u001b[0mnp\u001b[0m\u001b[0;34m.\u001b[0m\u001b[0mmax\u001b[0m\u001b[0;34m(\u001b[0m\u001b[0mlstm_weights\u001b[0m\u001b[0;34m[\u001b[0m\u001b[0;36m1\u001b[0m\u001b[0;34m]\u001b[0m\u001b[0;34m)\u001b[0m\u001b[0;34m,\u001b[0m \u001b[0mnp\u001b[0m\u001b[0;34m.\u001b[0m\u001b[0mmin\u001b[0m\u001b[0;34m(\u001b[0m\u001b[0mlstm_weights\u001b[0m\u001b[0;34m[\u001b[0m\u001b[0;36m1\u001b[0m\u001b[0;34m]\u001b[0m\u001b[0;34m)\u001b[0m\u001b[0;34m,\u001b[0m \u001b[0mnp\u001b[0m\u001b[0;34m.\u001b[0m\u001b[0mmean\u001b[0m\u001b[0;34m(\u001b[0m\u001b[0mlstm_weights\u001b[0m\u001b[0;34m[\u001b[0m\u001b[0;36m1\u001b[0m\u001b[0;34m]\u001b[0m\u001b[0;34m)\u001b[0m\u001b[0;34m)\u001b[0m\u001b[0;34m\u001b[0m\u001b[0m\n\u001b[1;32m     10\u001b[0m     \u001b[0mprint\u001b[0m\u001b[0;34m(\u001b[0m\u001b[0mnp\u001b[0m\u001b[0;34m.\u001b[0m\u001b[0mmax\u001b[0m\u001b[0;34m(\u001b[0m\u001b[0mlstm_weights\u001b[0m\u001b[0;34m[\u001b[0m\u001b[0;36m2\u001b[0m\u001b[0;34m]\u001b[0m\u001b[0;34m)\u001b[0m\u001b[0;34m,\u001b[0m \u001b[0mnp\u001b[0m\u001b[0;34m.\u001b[0m\u001b[0mmin\u001b[0m\u001b[0;34m(\u001b[0m\u001b[0mlstm_weights\u001b[0m\u001b[0;34m[\u001b[0m\u001b[0;36m2\u001b[0m\u001b[0;34m]\u001b[0m\u001b[0;34m)\u001b[0m\u001b[0;34m,\u001b[0m \u001b[0mnp\u001b[0m\u001b[0;34m.\u001b[0m\u001b[0mmean\u001b[0m\u001b[0;34m(\u001b[0m\u001b[0mlstm_weights\u001b[0m\u001b[0;34m[\u001b[0m\u001b[0;36m2\u001b[0m\u001b[0;34m]\u001b[0m\u001b[0;34m)\u001b[0m\u001b[0;34m)\u001b[0m\u001b[0;34m\u001b[0m\u001b[0m\n",
      "\u001b[0;31mIndexError\u001b[0m: list index out of range"
     ]
    }
   ],
   "source": [
    "get_lstm_outputs = K.function([model.layers[0].input],\n",
    "                                  [model.layers[2].output])\n",
    "get_level1_outputs = K.function([model.layers[0].input],\n",
    "                                  [model.layers[1].output])\n",
    "for i in range(10):\n",
    "    layer_output = get_lstm_outputs([train_all[:1][:,:5]])[0]\n",
    "    lstm_weights = (model.layers[2].get_weights())\n",
    "    print(np.max(lstm_weights[0]), np.min(lstm_weights[0]), np.mean(lstm_weights[0]))\n",
    "    print(np.max(lstm_weights[1]), np.min(lstm_weights[1]), np.mean(lstm_weights[1]))\n",
    "    print(np.max(lstm_weights[2]), np.min(lstm_weights[2]), np.mean(lstm_weights[2]))\n",
    "    print(np.max(layer_output), np.min(layer_output), np.mean(layer_output))\n",
    "    print()\n",
    "    \n",
    "    model.fit(train_all[:,:5], labels,\n",
    "          batch_size=2048, epochs=1,\n",
    "          verbose=1,\n",
    "          validation_data=(test_all[:,:5], testLabels))"
   ]
  },
  {
   "cell_type": "code",
   "execution_count": null,
   "metadata": {},
   "outputs": [],
   "source": [
    "def construct_meta_features(data):\n",
    "    # Compute emoji-based features\n",
    "    emojis = ['😂', '😭', '😞', '😢', '😁', '😅', '😍',\n",
    "              '😀', '😃', '😡', '😄', '😆', '😒', '😊',\n",
    "              '😌', '😠', '😤', '🙂', '😺', '😫', '😩',\n",
    "              '😹', '😜', '👍', '😘', '😸', '😉', '😽',\n",
    "              '😻', '😏', '💔', '😝', '😑', '🙁', '😾',\n",
    "              '😿', '😬', '❤', '😋', '🙄', '😔', '🙀',\n",
    "              '😎', '👎', '😦', '😧', '❤️', '😛', '😶',\n",
    "              '😐', '👌', '🤔','😇', '😨', '😯', '😳',\n",
    "              '☹️', '💋', '👋', '😪', '😥', '💕', '😱',\n",
    "              '🙈', '😟', '🙏', '✌', '😖', '😣', '😮',\n",
    "              '🤗', '😓', '😷', '☹', '💞', '🏻', '🙌',\n",
    "              '💐', '🙊', '😰', '☺', '😴', '🖕', '♥', '😕',\n",
    "              '😈', '💗', '♡', '👀', '👊', '‑c', ' 8‑d', ' ‑d',\n",
    "              '👻', '：）', '.', '?', '!', ',', '-', '・', \"'-'\",\n",
    "              '\\U0001f923','・ω・', '\\U000fe339', ' ‑c']\n",
    "    happy_words = ['happy', 'lol', 'haha', 'enjoy', 'cool', 'glad',\n",
    "                   'smile', 'nice', 'funny', 'wow', 'good', 'best',\n",
    "                   'party', 'baby', 'sweet', 'joke', 'glad', 'perfect',\n",
    "                   'fantastic', 'excite', 'cute', 'enjoy', 'omg']\n",
    "    angry_words = ['angry', 'fuck', 'hell', 'shut up', 'bad', 'rude',\n",
    "                  'block', 'stupid', 'piss', 'lame', \"don't\", 'mean',\n",
    "                  'irritat', 'hate', 'ignore', 'get lost', 'reply',\n",
    "                  'fool', 'regret', 'dumb', 'cheat', 'whore', 'disgust']\n",
    "    sad_words   = ['sad', 'sorry', 'miss', 'alone', 'lonely', 'cry',\n",
    "                   'disappointed', 'not', 'no', 'not happy', 'crazy',\n",
    "                   'stress', 'depress', 'poor', 'care', 'health', 'break up',\n",
    "                   'breaking up', 'upset', 'forgive', 'left me', 'dump']\n",
    "    others_words = ['thank you', 'favorite', 'favourite']\n",
    "    indicator_words = emojis + happy_words + angry_words + sad_words + others_words\n",
    "    \n",
    "    word_features = np.zeros((len(data), len(indicator_words)))\n",
    "    for i, text in enumerate(data):\n",
    "        for j, word in enumerate(indicator_words):\n",
    "            useful_text = text.lower()\n",
    "#             useful_text = \" \".join([text.split(' <eos> ')[0], text.split(' <eos> ')[-1]]).lower()\n",
    "            word_features[i][j] += useful_text.count(word)\n",
    "    \n",
    "    # Compute CAPS-based features\n",
    "    capital_features = np.zeros((len(data), 3))\n",
    "    for i, text in enumerate(data):\n",
    "        for word in text.split(' '):\n",
    "            if word.isupper():\n",
    "                capital_features[i][0] += 1\n",
    "        capital_features[i][1] = capital_features[i][0] / (len(text.split(' ')) + 1)\n",
    "        capital_features[i][2] = sum([len(x) for x in text.split(' ')]) / len(text.split(' '))\n",
    "    \n",
    "    # Combine metadata-based features\n",
    "    metadata_features = np.concatenate((word_features, capital_features), axis=1)\n",
    "    return metadata_features"
   ]
  },
  {
   "cell_type": "code",
   "execution_count": null,
   "metadata": {},
   "outputs": [],
   "source": [
    "metadata_features = construct_meta_features(rawtrainTexts)\n",
    "print(metadata_features.shape)"
   ]
  },
  {
   "cell_type": "code",
   "execution_count": null,
   "metadata": {},
   "outputs": [],
   "source": [
    "# Train classifier for metadata-based classification\n",
    "from sklearn import tree\n",
    "from sklearn.ensemble import RandomForestClassifier, AdaBoostClassifier\n",
    "from sklearn.metrics import f1_score\n",
    "meta_clf = tree.DecisionTreeClassifier()\n",
    "meta_clf.fit(metadata_features, np.argmax(labels, axis=1))\n",
    "utils.getMetrics(meta_clf.predict_proba(metadata_features), labels)"
   ]
  },
  {
   "cell_type": "code",
   "execution_count": null,
   "metadata": {},
   "outputs": [],
   "source": [
    "predictions = model.predict(test_all, batch_size=1024)\n",
    "eval_predictions = model.predict(eval_all, batch_size=1024)"
   ]
  },
  {
   "cell_type": "code",
   "execution_count": null,
   "metadata": {},
   "outputs": [],
   "source": [
    "test_meta = construct_meta_features(rawtestTexts)\n",
    "predictions_meta = meta_clf.predict_proba(test_meta)\n",
    "\n",
    "eval_meta = construct_meta_features(rawevalTexts)\n",
    "eval_predictions_meta = meta_clf.predict_proba(eval_meta)"
   ]
  },
  {
   "cell_type": "code",
   "execution_count": null,
   "metadata": {},
   "outputs": [],
   "source": [
    "utils.getMetrics(predictions, testLabels)\n",
    "print()\n",
    "predictions_sly = np.copy(predictions)\n",
    "eval_predictions_sly = np.copy(eval_predictions)\n",
    "\n",
    "for i in range(len(predictions_sly)):\n",
    "    if predictions_sly[i][1] >= 0.2:\n",
    "        predictions_sly[i] = [0, 1, 0, 0]\n",
    "#     if predictions_sly[i][0] >= 0.5:\n",
    "#         predictions_sly[i] = [1, 0, 0, 0]\n",
    "#     elif predictions_sly[i][1] >= 0.4:\n",
    "#         predictions_sly[i] = [0, 1, 0, 0]\n",
    "#     elif predictions_sly[i][2] >= 0.5:\n",
    "#         predictions_sly[i] = [0, 0, 1, 0]\n",
    "  \n",
    "alpha = 0.8\n",
    "# utils.getMetrics(predictions_sly, testLabels)\n",
    "# print()\n",
    "utils.getMetrics(alpha * predictions_sly + (1-alpha) * predictions_meta, testLabels)"
   ]
  },
  {
   "cell_type": "code",
   "execution_count": null,
   "metadata": {},
   "outputs": [],
   "source": [
    "# predictions_towrite = (predictions).argmax(axis=1)\n",
    "predictions_towrite = (alpha * predictions_sly + (1-alpha) * predictions_meta).argmax(axis=1)\n",
    "\n",
    "with io.open(solutionPath, \"w\", encoding=\"utf8\") as fout:\n",
    "    fout.write('\\t'.join([\"id\", \"turn1\", \"turn2\", \"turn3\", \"label\"]) + '\\n')        \n",
    "    with io.open(testDataPath, encoding=\"utf8\") as fin:\n",
    "        fin.readline()\n",
    "        for lineNum, line in enumerate(fin):\n",
    "            fout.write('\\t'.join(line.strip().split('\\t')[:4]) + '\\t')\n",
    "            fout.write(label2emotion[predictions_towrite[lineNum]] + '\\n')\n",
    "print(\"Completed\")"
   ]
  },
  {
   "cell_type": "code",
   "execution_count": null,
   "metadata": {},
   "outputs": [],
   "source": [
    "# predictions_towrite = (predictions).argmax(axis=1)\n",
    "# evals_towrite = (alpha * eval_predictions_sly + (1-alpha) * eval_predictions_meta).argmax(axis=1)\n",
    "evals_towrite = eval_predictions_sly.argmax(axis=1)\n",
    "\n",
    "with io.open(solutionPath, \"w\", encoding=\"utf8\") as fout:\n",
    "    fout.write('\\t'.join([\"id\", \"turn1\", \"turn2\", \"turn3\", \"label\"]) + '\\n')        \n",
    "    with io.open(evalDataPath, encoding=\"utf8\") as fin:\n",
    "        fin.readline()\n",
    "        for lineNum, line in enumerate(fin):\n",
    "            fout.write('\\t'.join(line.strip().split('\\t')[:4]) + '\\t')\n",
    "            fout.write(label2emotion[evals_towrite[lineNum]] + '\\n')\n",
    "print(\"Completed\")"
   ]
  },
  {
   "cell_type": "code",
   "execution_count": null,
   "metadata": {},
   "outputs": [],
   "source": []
  }
 ],
 "metadata": {
  "kernelspec": {
   "display_name": "persona",
   "language": "python",
   "name": "persona"
  },
  "language_info": {
   "codemirror_mode": {
    "name": "ipython",
    "version": 3
   },
   "file_extension": ".py",
   "mimetype": "text/x-python",
   "name": "python",
   "nbconvert_exporter": "python",
   "pygments_lexer": "ipython3",
   "version": "3.5.2"
  }
 },
 "nbformat": 4,
 "nbformat_minor": 2
}
